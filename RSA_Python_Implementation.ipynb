{
  "nbformat": 4,
  "nbformat_minor": 0,
  "metadata": {
    "colab": {
      "name": "RSA Python Implementation.ipynb",
      "provenance": [],
      "collapsed_sections": [
        "A_aUCqaUbDpv",
        "h-2qpXtlOm1Y"
      ],
      "authorship_tag": "ABX9TyNMLIqC6yS/KFHcYIuWbwRf",
      "include_colab_link": true
    },
    "kernelspec": {
      "name": "python3",
      "display_name": "Python 3"
    }
  },
  "cells": [
    {
      "cell_type": "markdown",
      "metadata": {
        "id": "view-in-github",
        "colab_type": "text"
      },
      "source": [
        "<a href=\"https://colab.research.google.com/github/Rguarnizo/RSA-explained-and-implemented/blob/main/RSA_Python_Implementation.ipynb\" target=\"_parent\"><img src=\"https://colab.research.google.com/assets/colab-badge.svg\" alt=\"Open In Colab\"/></a>"
      ]
    },
    {
      "cell_type": "markdown",
      "metadata": {
        "id": "wm2zqIWbauv1"
      },
      "source": [
        "# RSA"
      ]
    },
    {
      "cell_type": "markdown",
      "metadata": {
        "id": "Kq3GiKs9a1wf"
      },
      "source": [
        "## Introduction"
      ]
    },
    {
      "cell_type": "markdown",
      "metadata": {
        "id": "A_aUCqaUbDpv"
      },
      "source": [
        "### Criptography? What is that?"
      ]
    },
    {
      "cell_type": "markdown",
      "metadata": {
        "id": "p4yuzUhWbP5f"
      },
      "source": [
        "The criptography is very important in the modern world, is used to prevent important data used to wrong form, only the transmisor and the receptor have knowledge of the information that is transmitted, for that is important define rules to **encrypt and decrypt information**. There are several methods that have been used throughout history, one of the most mythical and ancient is the cesar cipher, consists of moving the alphabet so that some letters now correspond to others and that the message is encrypted.\n",
        "\n",
        "Many of these methods were effective in their time, but now there are computers and the way to break those ciphers is much easier than in their time. It is of vital importance then to find new methods for the encryption of messages, This is where **asymmetric cryptography** makes a place.\n",
        "\n",
        "\n",
        "\n"
      ]
    },
    {
      "cell_type": "markdown",
      "metadata": {
        "id": "h-2qpXtlOm1Y"
      },
      "source": [
        "### Asymmetric Cryptography\n",
        "\n"
      ]
    },
    {
      "cell_type": "markdown",
      "metadata": {
        "id": "M8scdSo5OpTL"
      },
      "source": [
        "If a person issuing a message to a recipient uses the latter's **public key to encrypt it**; once encrypted, **only the recipient's private key will be able to decrypt the message**, since it is the only one who should know it. Therefore, the confidentiality of the sending of the message is achieved, it is extremely difficult for someone except the recipient to decrypt it. **Anyone, using the recipient's public key, can encrypt messages;** those that will be decrypted by the recipient using their private key.\n",
        "\n",
        "This is how the RSA system works, it is a symmetric cryptography method developed in the mid-1970s that uses integer factorization as its main method of encrypting messages.\n",
        "\n",
        "RSA is believed to be safe as long as no quick ways are known to **decompose a large number into the product of primes.** Although it is believed that *quantum computing* could provide a solution to the factoring problem, there are researchers who doubt that such advances will make these algorithms obsolete."
      ]
    },
    {
      "cell_type": "markdown",
      "metadata": {
        "id": "OzxyAt_ME30t"
      },
      "source": [
        "### RSA Concepts"
      ]
    },
    {
      "cell_type": "markdown",
      "metadata": {
        "id": "T_8H5kIhOd_I"
      },
      "source": [
        "#### Generation of keys\n"
      ]
    },
    {
      "cell_type": "markdown",
      "metadata": {
        "id": "5CMaltoKOhKZ"
      },
      "source": [
        "1. Choose two prime numbers $p$ and $q$, preferably large\n",
        "\n",
        "2. $N$ will be the multiplication of $p$ and $q$\n",
        "\n",
        "$$N = p\\cdot q$$\n",
        "  \n",
        "\n",
        "3. To the $N$ found, Euler's phi function is applied, (remember the following):\n",
        "$$\\text{if p is prime } \\phi(p)= p-1$$\n",
        "$$\\phi(N) = \\phi(p\\cdot q)= (p-1)(q-1) $$\n",
        "\n",
        "\n",
        "4. Choose another number $e$ such that it has no factors in common with $ϕ(N)$. \n",
        "\n",
        "\n",
        "5. With that number you get another number $d$ such that:\n",
        "$$ed\\equiv 1\\text{ (mod } \\phi{(N)})$$\n",
        "In modular arithmetic $d$ is the inverse of $e$ in the module $ϕ (N)$, $d$ is a private number\n",
        "\n",
        "6. The public key and the private key have been generated and they are the following: \n",
        "$$\\text{Public key: } (N,e)$$\n",
        "$$\\text{Private key: } (d)$$\n"
      ]
    },
    {
      "cell_type": "markdown",
      "metadata": {
        "id": "eVjskCTFOZUJ"
      },
      "source": [
        "##Step by Step Algorithm"
      ]
    },
    {
      "cell_type": "markdown",
      "metadata": {
        "id": "u_qOhoGrQyEp"
      },
      "source": [
        "###1. Choose $p$ and $q$"
      ]
    },
    {
      "cell_type": "markdown",
      "metadata": {
        "id": "nBbjSpSwQfGQ"
      },
      "source": [
        "For the first part we will have to choose two prime numbers p and q, for this we will use the bertand postulate, which indicates that:\n",
        "\n",
        "$$\\text{if n is a number such that } n> 1 \\text{ then there will be at least one prime number p such that } n <p <2n$$"
      ]
    },
    {
      "cell_type": "code",
      "metadata": {
        "id": "0LlTNQrKRgho"
      },
      "source": [
        "import random \n",
        "import math\n",
        "\n",
        "#Primaly Test\n",
        "def is_prime(x): \n",
        "    if (x<=1):\n",
        "        return False\n",
        "    for i in range(2, math.ceil(math.sqrt(x))+1):\n",
        "        if(x % i==0 and i!= x):\n",
        "            return False\n",
        "    return True\n",
        "\n",
        "#Bertrand Postulate, search prime number\n",
        "def get_prime(x): \n",
        "  p = random.randint(x,2*x)\n",
        "  while( not is_prime(p) ):\n",
        "    p+=1\n",
        "    if(p == 2*x):\n",
        "      p = n \n",
        "  return p"
      ],
      "execution_count": null,
      "outputs": []
    },
    {
      "cell_type": "code",
      "metadata": {
        "colab": {
          "base_uri": "https://localhost:8080/"
        },
        "id": "8YRnGVIESHCZ",
        "outputId": "7b9c3c4c-5964-43f3-da7e-1ced385dd5a1"
      },
      "source": [
        "p = get_prime(123456789);\n",
        "q = get_prime(987654321);\n",
        "\n",
        "print('Generate of prime numbers p and q: p={},q={}'.format(str(p),str(q)));"
      ],
      "execution_count": null,
      "outputs": [
        {
          "output_type": "stream",
          "text": [
            "Generate of prime numbers p and q: p=223234367,q=1267866767\n"
          ],
          "name": "stdout"
        }
      ]
    },
    {
      "cell_type": "markdown",
      "metadata": {
        "id": "XEnhUFBDSqk5"
      },
      "source": [
        "### 2. Calculate N\n"
      ]
    },
    {
      "cell_type": "markdown",
      "metadata": {
        "id": "lZdsEwCESzNY"
      },
      "source": [
        "In the second step we will have to calculate the number N that will be the multiplication of p and q, this step is simple:"
      ]
    },
    {
      "cell_type": "code",
      "metadata": {
        "colab": {
          "base_uri": "https://localhost:8080/"
        },
        "id": "lwwkxjzaTERn",
        "outputId": "11957dc5-7630-4d98-d76f-2946aeee3904"
      },
      "source": [
        "N=p*q\n",
        "N"
      ],
      "execution_count": null,
      "outputs": [
        {
          "output_type": "execute_result",
          "data": {
            "text/plain": [
              "283031435171581489"
            ]
          },
          "metadata": {
            "tags": []
          },
          "execution_count": 12
        }
      ]
    },
    {
      "cell_type": "markdown",
      "metadata": {
        "id": "yU_jboNvTStH"
      },
      "source": [
        "**Remember that this number is part of the public key, so it will be important to save it**"
      ]
    },
    {
      "cell_type": "markdown",
      "metadata": {
        "id": "oY8AihJJThJY"
      },
      "source": [
        "### 3. Calculate $\\phi(n)$"
      ]
    },
    {
      "cell_type": "markdown",
      "metadata": {
        "id": "Ze2eAeBzToR7"
      },
      "source": [
        "To calculate the totient function of euler we have to remember how to do it:\n",
        "\n",
        "$$\\phi(n)= |\\{m \\in \\mathbb{N} | m \\leq n \\wedge mcd(m,n)=1 \\}|$$\n",
        "\n",
        "$φ (n)$ is defined as the number of positive integers less than or equal to $n$ and coprime with $n$, In other words, the numbers less than or equal to N whose greatest common divisor is equal to 1.\n",
        "\n",
        "However, remember that **if $n$ is a prime** then all the numbers before it will be coprime with it. Thus:\n",
        "$$\\text{if p is prime } \\phi(p) = p-1 $$\n",
        "\n",
        "\n",
        "We also have to take into account that the function $\\phi$ **is multiplicative**, which means that the following:\n",
        "\n",
        "$$\\phi(n\\cdot m)= \\phi(n)\\cdot \\phi(m)$$\n",
        "\n",
        "And if we combine this property when m and n are prime we will obtain the following:\n",
        "\n",
        "$$\\text{if p,q are primes } \\phi(p\\cdot q) = \\phi(p)\\cdot \\phi(q) = (p-1)(q-1)$$\n",
        "\n",
        "\n",
        "\n"
      ]
    },
    {
      "cell_type": "code",
      "metadata": {
        "colab": {
          "base_uri": "https://localhost:8080/",
          "height": 35
        },
        "id": "2AOl4iYXYriF",
        "outputId": "58ddc645-476e-4264-9031-8a698f24d428"
      },
      "source": [
        "phi_n = (p-1)*(q-1)\n",
        "'The euler totient fuction of n is: {}'.format(phi_n) "
      ],
      "execution_count": null,
      "outputs": [
        {
          "output_type": "execute_result",
          "data": {
            "application/vnd.google.colaboratory.intrinsic+json": {
              "type": "string"
            },
            "text/plain": [
              "'The euler totient fuction of n is: 283031433680480356'"
            ]
          },
          "metadata": {
            "tags": []
          },
          "execution_count": 13
        }
      ]
    },
    {
      "cell_type": "markdown",
      "metadata": {
        "id": "xtbib2xpZKei"
      },
      "source": [
        "###4. Choose number $e$"
      ]
    },
    {
      "cell_type": "markdown",
      "metadata": {
        "id": "X3NlWnNPZq9D"
      },
      "source": [
        "To choose an encryption key we have to choose a number $e$ such that it has no factors in common with $\\phi(n)$, that is to say that:\n",
        "\n",
        "$$mcd(e,\\phi(n)) = 1$$ \n",
        "\n",
        "A good way to pick e is to make it a random prime number as well."
      ]
    },
    {
      "cell_type": "code",
      "metadata": {
        "id": "zAKtVB3UbNI2"
      },
      "source": [
        "def mcd(a, b):\n",
        "    while b != 0:\n",
        "        a, b = b, a % b\n",
        "    return a"
      ],
      "execution_count": null,
      "outputs": []
    },
    {
      "cell_type": "code",
      "metadata": {
        "colab": {
          "base_uri": "https://localhost:8080/"
        },
        "id": "jURGHVNibOpU",
        "outputId": "db0fa180-c588-4afa-e516-e7354d21c91f"
      },
      "source": [
        "e = get_prime(543612)\n",
        "mcd(e,phi_n)"
      ],
      "execution_count": null,
      "outputs": [
        {
          "output_type": "execute_result",
          "data": {
            "text/plain": [
              "1"
            ]
          },
          "metadata": {
            "tags": []
          },
          "execution_count": 15
        }
      ]
    },
    {
      "cell_type": "code",
      "metadata": {
        "colab": {
          "base_uri": "https://localhost:8080/"
        },
        "id": "Y_41h3YabwBU",
        "outputId": "abe99752-6c87-4edb-caeb-5f4010285b68"
      },
      "source": [
        "e"
      ],
      "execution_count": null,
      "outputs": [
        {
          "output_type": "execute_result",
          "data": {
            "text/plain": [
              "998077"
            ]
          },
          "metadata": {
            "tags": []
          },
          "execution_count": 16
        }
      ]
    },
    {
      "cell_type": "markdown",
      "metadata": {
        "id": "QAZOXxnodx0k"
      },
      "source": [
        "###5. Find inverse $d$ of $e$ in module $\\phi(n)$"
      ]
    },
    {
      "cell_type": "markdown",
      "metadata": {
        "id": "9yYHoiX2d76_"
      },
      "source": [
        "For this step we will have to find the inverse of $e$ in the $\\phi(n)$ module for this we will help ourselves with the **identity of bezout**, what tells us that:\n",
        " \n",
        " $$\\text{if mcd(e,$\\phi$(n)) = 1 then }1=u*e+v*\\phi(n)$$\n",
        "\n",
        "We are interested in **finding $u$**, which **we will call $d$** and which will be our **private key**.\n",
        "\n",
        "To do this we will use the **extended Euclid algorithm**:"
      ]
    },
    {
      "cell_type": "code",
      "metadata": {
        "id": "ydgqEB-Jg4qH"
      },
      "source": [
        "def extend_gcd(a, b):\n",
        "\tif a == 0:\n",
        "\t\treturn (b, 0, 1)\n",
        "\telse:\n",
        "\t\tgcd, x, y = extend_gcd(b % a, a)\n",
        "\t\treturn (gcd, y - (b//a) * x, x)"
      ],
      "execution_count": null,
      "outputs": []
    },
    {
      "cell_type": "code",
      "metadata": {
        "id": "p30LI6WpjxLa"
      },
      "source": [
        "d = extend_gcd(e,phi_n)[1]"
      ],
      "execution_count": null,
      "outputs": []
    },
    {
      "cell_type": "markdown",
      "metadata": {
        "id": "quKd-Olkk8kv"
      },
      "source": [
        "### 6. Characterize the public key and private key"
      ]
    },
    {
      "cell_type": "markdown",
      "metadata": {
        "id": "cTb76em2ys5D"
      },
      "source": [
        "Doing all the previous work we would finally have the private keys and the public key that can be characterized like this:\n",
        "\n",
        "$$\\text{private key: } (N,e)$$\n",
        "$$\\text{private key: } d$$"
      ]
    },
    {
      "cell_type": "markdown",
      "metadata": {
        "id": "0HB62eY1zMbA"
      },
      "source": [
        "## Examples"
      ]
    },
    {
      "cell_type": "markdown",
      "metadata": {
        "id": "fO4OfoyISiOU"
      },
      "source": [
        "###1. Encrypt and decrypt message "
      ]
    },
    {
      "cell_type": "markdown",
      "metadata": {
        "id": "XbEZ5CgbEZ7_"
      },
      "source": [
        "For the examples we will use a class called **Entity**, which will have your public key and your private key, and will be able to **send information** or **receive information**."
      ]
    },
    {
      "cell_type": "code",
      "metadata": {
        "id": "9i6gnWJDExZ2"
      },
      "source": [
        "class Entity:\n",
        "  def __init__(self, p, q):\n",
        "    self.init_entity(p, q)\n",
        "\n",
        "  def init_entity(self,p,q):\n",
        "    self.p = p\n",
        "    self.q = q\n",
        "    self.n = p*q\n",
        "    self.phi_n = (p-1)*(q-1)\n",
        "    self.publicKey = get_prime(p);\n",
        "    self.privateKey = extend_gcd(self.publicKey,self.phi_n)[1];\n",
        "    \n",
        "\n",
        "  \n",
        "  def encrypt(self,m):\n",
        "    return [pow(x,self.publicKey,self.n) for x in m] #using binary exponentiation\n",
        "\n",
        "  def decrypt(self,m):\n",
        "    return [pow(x,self.privateKey,self.n) for x in m] #using binary exponentiation\n",
        "\n",
        "  def info_entity(self):\n",
        "    print('p = {},q = {}'.format(self.p,self.q));\n",
        "    print('pxq = n = {}'.format(self.n));\n",
        "    print('phi_n = {}'.format(self.phi_n));\n",
        "    print('Public key e = {}'.format(self.publicKey))\n",
        "    print('Private key d = {}'.format(self.privateKey))\n",
        "\n",
        "  def sendMessage(self,message,publicKey):\n",
        "    return [pow(x,publicKey[0],publicKey[1]) for x in message]"
      ],
      "execution_count": null,
      "outputs": []
    },
    {
      "cell_type": "code",
      "metadata": {
        "id": "Gv1mQt_yHDyy"
      },
      "source": [
        "## Init Entity.\n",
        "entity = Entity(get_prime(123456),get_prime(654321));"
      ],
      "execution_count": null,
      "outputs": []
    },
    {
      "cell_type": "code",
      "metadata": {
        "id": "_YlH74jdMPiy"
      },
      "source": [
        "## Encode message to utf-8 encoding.\n",
        "originalMessage = 'Universidad Nacional de Colombia'.encode('utf-8');"
      ],
      "execution_count": null,
      "outputs": []
    },
    {
      "cell_type": "code",
      "metadata": {
        "colab": {
          "base_uri": "https://localhost:8080/"
        },
        "id": "NzxcblcxIO5K",
        "outputId": "c6cc3f73-308c-42f6-b7e0-c374d4a58936"
      },
      "source": [
        "## Encrypt message Universidad Nacional de Colombia with the public key.\n",
        "encryptedMessage = entity.encrypt(originalMessage);\n",
        "eMessage = [x%256 for x in encryptedMessage]\n",
        "##Represent message to uft-8 encoding, Totally unintelligible\n",
        "bytes(eMessage)"
      ],
      "execution_count": null,
      "outputs": [
        {
          "output_type": "execute_result",
          "data": {
            "text/plain": [
              "b'\\x03\\xc0\\xaf\\xff\\x1e\\xd3\\xa0\\xaf[\\xfb[\\xff?\\xfb\\xd0\\xaf\\xc9\\xc0\\xfb\\xc5\\xff[\\x1e\\xff)\\xc9\\xc5\\xc9\\xc8z\\xaf\\xfb'"
            ]
          },
          "metadata": {
            "tags": []
          },
          "execution_count": 166
        }
      ]
    },
    {
      "cell_type": "code",
      "metadata": {
        "colab": {
          "base_uri": "https://localhost:8080/"
        },
        "id": "-Do9ybaoITfX",
        "outputId": "33209e35-52a4-4674-a03f-d8041d965242"
      },
      "source": [
        "## Decrypt message to a private Key.\n",
        "decryptMessage = entity.decrypt(encryptedMessage);\n",
        "bytes(decryptMessage)"
      ],
      "execution_count": null,
      "outputs": [
        {
          "output_type": "execute_result",
          "data": {
            "text/plain": [
              "b'Universidad Nacional de Colombia'"
            ]
          },
          "metadata": {
            "tags": []
          },
          "execution_count": 169
        }
      ]
    },
    {
      "cell_type": "markdown",
      "metadata": {
        "id": "q8Un7htUSrnD"
      },
      "source": [
        "###2. Use two entity to interact"
      ]
    },
    {
      "cell_type": "markdown",
      "metadata": {
        "id": "JorIBEAkS6FE"
      },
      "source": [
        "Suppose you want to have an **encrypted conversation** so that only the receiver and transmitter have knowledge of what is being sent.\n",
        "\n",
        "\n",
        "Using the entities previously created we will have to obtain the **public key** of each entity every time we want to send a message.\n"
      ]
    },
    {
      "cell_type": "code",
      "metadata": {
        "colab": {
          "base_uri": "https://localhost:8080/"
        },
        "id": "sEZp1inxTiAa",
        "outputId": "50575c39-a8ce-4f51-cc84-92111158c0b5"
      },
      "source": [
        "#In this case, we use a prime with 10 digits\n",
        "#Run this cell again if the private key is negative\n",
        "entity1 = Entity(get_prime(1234567890),get_prime(9876543210));\n",
        "entity2 = Entity(get_prime(5432167890),get_prime(6789054321));\n",
        "entity1.privateKey,entity2.privateKey"
      ],
      "execution_count": null,
      "outputs": [
        {
          "output_type": "execute_result",
          "data": {
            "text/plain": [
              "(10169623354795118845, 27663636346083121559)"
            ]
          },
          "metadata": {
            "tags": []
          },
          "execution_count": 195
        }
      ]
    },
    {
      "cell_type": "code",
      "metadata": {
        "colab": {
          "base_uri": "https://localhost:8080/"
        },
        "id": "Vdw8nFBgUjCo",
        "outputId": "73b71edb-85cd-4f22-ae30-8de494bc0e7d"
      },
      "source": [
        "publicKeyEnt1 = (entity1.publicKey,entity1.n);\n",
        "publicKeyEnt2 = (entity2.publicKey,entity2.n);\n",
        "\n",
        "publicKeyEnt1,publicKeyEnt2"
      ],
      "execution_count": null,
      "outputs": [
        {
          "output_type": "execute_result",
          "data": {
            "text/plain": [
              "((1781122709, 24039811759218646933), (9580897523, 58380623663698435321))"
            ]
          },
          "metadata": {
            "tags": []
          },
          "execution_count": 196
        }
      ]
    },
    {
      "cell_type": "code",
      "metadata": {
        "id": "qWfttdArVdJD"
      },
      "source": [
        "encryptedMessage = entity1.sendMessage('The end of clases en Linea, Tu (no) puedes pasar el semestre'.encode('utf-8'),publicKeyEnt2);"
      ],
      "execution_count": null,
      "outputs": []
    },
    {
      "cell_type": "code",
      "metadata": {
        "colab": {
          "base_uri": "https://localhost:8080/"
        },
        "id": "gGo0-I-DW20W",
        "outputId": "171d2728-a53a-48bd-c004-83a7bdb5cecc"
      },
      "source": [
        "decryptedMessage = entity2.decrypt(encryptedMessage);\n",
        "bytes(decryptedMessage)"
      ],
      "execution_count": null,
      "outputs": [
        {
          "output_type": "execute_result",
          "data": {
            "text/plain": [
              "b'The end of clases en Linea, Tu (no) puedes pasar el semestre'"
            ]
          },
          "metadata": {
            "tags": []
          },
          "execution_count": 198
        }
      ]
    },
    {
      "cell_type": "code",
      "metadata": {
        "id": "Cl0dw38vXUpy"
      },
      "source": [
        "encryptedMessage = entity2.sendMessage('Espero sacar 5 en Matematicas Discretas'.encode('utf-8'),publicKeyEnt1);"
      ],
      "execution_count": null,
      "outputs": []
    },
    {
      "cell_type": "code",
      "metadata": {
        "colab": {
          "base_uri": "https://localhost:8080/"
        },
        "id": "uF_9DPi4XsSy",
        "outputId": "943345c1-8fa0-4b74-c5a8-7245309d7f52"
      },
      "source": [
        "decryptedMessage = entity1.decrypt(encryptedMessage)\n",
        "bytes(decryptedMessage)"
      ],
      "execution_count": null,
      "outputs": [
        {
          "output_type": "execute_result",
          "data": {
            "text/plain": [
              "b'Espero sacar 5 en Matematicas Discretas'"
            ]
          },
          "metadata": {
            "tags": []
          },
          "execution_count": 200
        }
      ]
    },
    {
      "cell_type": "markdown",
      "metadata": {
        "id": "020q-n7k20Sk"
      },
      "source": [
        "### Bibliography"
      ]
    },
    {
      "cell_type": "markdown",
      "metadata": {
        "id": "6SCmJRFE3Mlp"
      },
      "source": [
        "[1] Koblitz, N. (1987). A course in number theory and cryptography. New York: Springer-Verlag.  \r\n",
        "[2] Kato, K., Kurokawa, N., & Saitō, T. (2011). Number theory. Providence, RI: American Mathematical Society.  "
      ]
    }
  ]
}